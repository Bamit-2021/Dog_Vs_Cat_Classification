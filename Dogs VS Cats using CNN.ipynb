{
 "cells": [
  {
   "cell_type": "code",
   "execution_count": 1,
   "id": "bcfe0928",
   "metadata": {},
   "outputs": [],
   "source": [
    "# import libraries\n",
    "\n",
    "import tensorflow as tf\n",
    "from keras.preprocessing.image import ImageDataGenerator"
   ]
  },
  {
   "cell_type": "code",
   "execution_count": 12,
   "id": "1862db27",
   "metadata": {},
   "outputs": [],
   "source": [
    "#data preprocessing\n",
    "train_dataset = ImageDataGenerator(\n",
    "    'C:/Users/B.Amit Kumar Patro/Documents/ML PROJECT/1Stop/Dog VS Cat CNN/training_set/training_set',\n",
    "        rescale=1./255,\n",
    "        shear_range=0.2,\n",
    "        zoom_range=0.2,\n",
    "        horizontal_flip=True)"
   ]
  },
  {
   "cell_type": "code",
   "execution_count": 13,
   "id": "96d24ea3",
   "metadata": {},
   "outputs": [
    {
     "name": "stdout",
     "output_type": "stream",
     "text": [
      "Found 8005 images belonging to 2 classes.\n"
     ]
    }
   ],
   "source": [
    "train_generator = train_dataset.flow_from_directory(\n",
    "        'C:/Users/B.Amit Kumar Patro/Documents/ML PROJECT/1Stop/Dog VS Cat CNN/training_set/training_set',\n",
    "        target_size=(64, 64),\n",
    "        batch_size=32,\n",
    "        class_mode='binary')"
   ]
  },
  {
   "cell_type": "code",
   "execution_count": 15,
   "id": "43b576a2",
   "metadata": {},
   "outputs": [
    {
     "name": "stdout",
     "output_type": "stream",
     "text": [
      "Found 2023 images belonging to 2 classes.\n"
     ]
    }
   ],
   "source": [
    "test_dataset = ImageDataGenerator(rescale=1./255)\n",
    "validation_generator = test_dataset.flow_from_directory(\n",
    "        'C:/Users/B.Amit Kumar Patro/Documents/ML PROJECT/1Stop/Dog VS Cat CNN/test_set/test_set',\n",
    "        target_size=(64, 64),\n",
    "        batch_size=32,\n",
    "        class_mode='binary')"
   ]
  },
  {
   "cell_type": "code",
   "execution_count": 16,
   "id": "d4d33b38",
   "metadata": {},
   "outputs": [],
   "source": [
    "# Initialize\n",
    "cnn = tf.keras.models.Sequential()"
   ]
  },
  {
   "cell_type": "code",
   "execution_count": 17,
   "id": "9cdf7309",
   "metadata": {},
   "outputs": [],
   "source": [
    "cnn.add(tf.keras.layers.Conv2D(filters = 32, kernel_size = 3, activation = 'relu', \n",
    "                               input_shape = [64,64,3]))\n",
    "cnn.add(tf.keras.layers.Conv2D(filters = 32, kernel_size = 3, activation = 'relu'))\n",
    "cnn.add(tf.keras.layers.MaxPool2D(pool_size=2, strides=2))"
   ]
  },
  {
   "cell_type": "code",
   "execution_count": 18,
   "id": "716ccd5f",
   "metadata": {},
   "outputs": [],
   "source": [
    "cnn.add(tf.keras.layers.Flatten())\n",
    "cnn.add(tf.keras.layers.Dense(units = 128, activation = 'relu'))\n",
    "cnn.add(tf.keras.layers.Dense(units = 1, activation = 'sigmoid'))"
   ]
  },
  {
   "cell_type": "code",
   "execution_count": 19,
   "id": "196ec26b",
   "metadata": {},
   "outputs": [],
   "source": [
    "# Compile the Model\n",
    "cnn.compile(optimizer = 'adam',loss = 'binary_crossentropy', metrics = ['accuracy'] )"
   ]
  },
  {
   "cell_type": "code",
   "execution_count": 22,
   "id": "44686b71",
   "metadata": {},
   "outputs": [
    {
     "name": "stderr",
     "output_type": "stream",
     "text": [
      "C:\\Users\\B.Amit Kumar Patro\\anaconda3\\lib\\site-packages\\keras_preprocessing\\image\\image_data_generator.py:720: UserWarning: This ImageDataGenerator specifies `featurewise_center`, but it hasn't been fit on any training data. Fit it first by calling `.fit(numpy_data)`.\n",
      "  warnings.warn('This ImageDataGenerator specifies '\n"
     ]
    },
    {
     "name": "stdout",
     "output_type": "stream",
     "text": [
      "Epoch 1/25\n",
      "251/251 [==============================] - 111s 441ms/step - loss: 0.5120 - accuracy: 0.7423 - val_loss: 0.4967 - val_accuracy: 0.7716\n",
      "Epoch 2/25\n",
      "251/251 [==============================] - 109s 436ms/step - loss: 0.4834 - accuracy: 0.7644 - val_loss: 0.5139 - val_accuracy: 0.7627\n",
      "Epoch 3/25\n",
      "251/251 [==============================] - 119s 472ms/step - loss: 0.4730 - accuracy: 0.7703 - val_loss: 0.5192 - val_accuracy: 0.7593\n",
      "Epoch 4/25\n",
      "251/251 [==============================] - 129s 515ms/step - loss: 0.4616 - accuracy: 0.7761 - val_loss: 0.4889 - val_accuracy: 0.7771\n",
      "Epoch 5/25\n",
      "251/251 [==============================] - 124s 495ms/step - loss: 0.4402 - accuracy: 0.7896 - val_loss: 0.5131 - val_accuracy: 0.7815\n",
      "Epoch 6/25\n",
      "251/251 [==============================] - 129s 513ms/step - loss: 0.4320 - accuracy: 0.7981 - val_loss: 0.5299 - val_accuracy: 0.7711\n",
      "Epoch 7/25\n",
      "251/251 [==============================] - 121s 480ms/step - loss: 0.4106 - accuracy: 0.8126 - val_loss: 0.5173 - val_accuracy: 0.7746\n",
      "Epoch 8/25\n",
      "251/251 [==============================] - 113s 451ms/step - loss: 0.3936 - accuracy: 0.8186 - val_loss: 0.4939 - val_accuracy: 0.7884\n",
      "Epoch 9/25\n",
      "251/251 [==============================] - 109s 434ms/step - loss: 0.3828 - accuracy: 0.8289 - val_loss: 0.5119 - val_accuracy: 0.7810\n",
      "Epoch 10/25\n",
      "251/251 [==============================] - 120s 478ms/step - loss: 0.3584 - accuracy: 0.8394 - val_loss: 0.5481 - val_accuracy: 0.7924\n",
      "Epoch 11/25\n",
      "251/251 [==============================] - 115s 458ms/step - loss: 0.3429 - accuracy: 0.8455 - val_loss: 0.5162 - val_accuracy: 0.7845\n",
      "Epoch 12/25\n",
      "251/251 [==============================] - 117s 467ms/step - loss: 0.3304 - accuracy: 0.8502 - val_loss: 0.5413 - val_accuracy: 0.7870\n",
      "Epoch 13/25\n",
      "251/251 [==============================] - 108s 429ms/step - loss: 0.3185 - accuracy: 0.8621 - val_loss: 0.5145 - val_accuracy: 0.7840\n",
      "Epoch 14/25\n",
      "251/251 [==============================] - 111s 442ms/step - loss: 0.2990 - accuracy: 0.8653 - val_loss: 0.5069 - val_accuracy: 0.7983\n",
      "Epoch 15/25\n",
      "251/251 [==============================] - 119s 476ms/step - loss: 0.2851 - accuracy: 0.8756 - val_loss: 0.5307 - val_accuracy: 0.7865\n",
      "Epoch 16/25\n",
      "251/251 [==============================] - 121s 483ms/step - loss: 0.2743 - accuracy: 0.8879 - val_loss: 0.5396 - val_accuracy: 0.7963\n",
      "Epoch 17/25\n",
      "251/251 [==============================] - 125s 499ms/step - loss: 0.2689 - accuracy: 0.8862 - val_loss: 0.5526 - val_accuracy: 0.8018\n",
      "Epoch 18/25\n",
      "251/251 [==============================] - 122s 486ms/step - loss: 0.2465 - accuracy: 0.8973 - val_loss: 0.6355 - val_accuracy: 0.7835\n",
      "Epoch 19/25\n",
      "251/251 [==============================] - 135s 539ms/step - loss: 0.2329 - accuracy: 0.9054 - val_loss: 0.5650 - val_accuracy: 0.8077\n",
      "Epoch 20/25\n",
      "251/251 [==============================] - 116s 461ms/step - loss: 0.2200 - accuracy: 0.9128 - val_loss: 0.6001 - val_accuracy: 0.7929\n",
      "Epoch 21/25\n",
      "251/251 [==============================] - 111s 442ms/step - loss: 0.2030 - accuracy: 0.9148 - val_loss: 0.6003 - val_accuracy: 0.7993\n",
      "Epoch 22/25\n",
      "251/251 [==============================] - 108s 429ms/step - loss: 0.1941 - accuracy: 0.9208 - val_loss: 0.6143 - val_accuracy: 0.7973\n",
      "Epoch 23/25\n",
      "251/251 [==============================] - 109s 434ms/step - loss: 0.1831 - accuracy: 0.9280 - val_loss: 0.6597 - val_accuracy: 0.8033\n",
      "Epoch 24/25\n",
      "251/251 [==============================] - 110s 437ms/step - loss: 0.1838 - accuracy: 0.9264 - val_loss: 0.7203 - val_accuracy: 0.7766\n",
      "Epoch 25/25\n",
      "251/251 [==============================] - 128s 511ms/step - loss: 0.1667 - accuracy: 0.9339 - val_loss: 0.6740 - val_accuracy: 0.7958\n"
     ]
    }
   ],
   "source": [
    "# Train The Model\n",
    "history=cnn.fit(x = train_generator, validation_data = validation_generator, epochs = 25)"
   ]
  },
  {
   "cell_type": "code",
   "execution_count": 23,
   "id": "3e7ea291",
   "metadata": {},
   "outputs": [
    {
     "data": {
      "text/plain": [
       "<AxesSubplot:>"
      ]
     },
     "execution_count": 23,
     "metadata": {},
     "output_type": "execute_result"
    },
    {
     "data": {
      "image/png": "[encoded data removed]",
      "text/plain": [
       "<Figure size 432x288 with 1 Axes>"
      ]
     },
     "metadata": {
      "needs_background": "light"
     },
     "output_type": "display_data"
    }
   ],
   "source": [
    "import matplotlib.pyplot as plt\n",
    "import pandas as pd\n",
    "hist_df = pd.DataFrame(history.history)\n",
    "hist_df.loc[:,['loss','val_loss']].plot()"
   ]
  },
  {
   "cell_type": "code",
   "execution_count": null,
   "id": "9ed7625a",
   "metadata": {},
   "outputs": [],
   "source": []
  }
 ],
 "metadata": {
  "kernelspec": {
   "display_name": "Python 3",
   "language": "python",
   "name": "python3"
  },
  "language_info": {
   "codemirror_mode": {
    "name": "ipython",
    "version": 3
   },
   "file_extension": ".py",
   "mimetype": "text/x-python",
   "name": "python",
   "nbconvert_exporter": "python",
   "pygments_lexer": "ipython3",
   "version": "3.8.8"
  }
 },
 "nbformat": 4,
 "nbformat_minor": 5
}
